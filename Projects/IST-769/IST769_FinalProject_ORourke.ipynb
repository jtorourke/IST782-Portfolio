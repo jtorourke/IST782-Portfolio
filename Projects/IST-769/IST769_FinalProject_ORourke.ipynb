{
 "cells": [
  {
   "cell_type": "markdown",
   "id": "de26bed7",
   "metadata": {},
   "source": [
    "# Package installation"
   ]
  },
  {
   "cell_type": "code",
   "execution_count": null,
   "id": "6dcfdca5-1a44-4493-94f6-26826595b9ab",
   "metadata": {},
   "outputs": [],
   "source": [
    "!pip install spotipy\n",
    "!pip install pymongo\n",
    "!pip install nbconvert"
   ]
  },
  {
   "cell_type": "markdown",
   "id": "a4c486c8",
   "metadata": {},
   "source": [
    "# Libraries"
   ]
  },
  {
   "cell_type": "code",
   "execution_count": 1,
   "id": "1e6ec98d-1d75-4f77-a899-144ce7e3e19a",
   "metadata": {},
   "outputs": [],
   "source": [
    "import pyspark\n",
    "from pyspark.sql import SparkSession\n",
    "import spotipy\n",
    "import spotipy.util as util\n",
    "from spotipy.oauth2 import SpotifyClientCredentials, SpotifyOAuth\n",
    "import datetime\n",
    "import os\n",
    "import pymongo\n",
    "from pymongo import MongoClient"
   ]
  },
  {
   "cell_type": "markdown",
   "id": "16803bd8",
   "metadata": {},
   "source": [
    "# Configuring MongoDB"
   ]
  },
  {
   "cell_type": "code",
   "execution_count": 2,
   "id": "60a2a9a3-6e79-44c9-a7d7-a9ebf297275d",
   "metadata": {},
   "outputs": [
    {
     "name": "stdout",
     "output_type": "stream",
     "text": [
      "Connection successful\n"
     ]
    },
    {
     "data": {
      "text/plain": [
       "<pymongo.results.InsertOneResult at 0x28da3e641c0>"
      ]
     },
     "execution_count": 2,
     "metadata": {},
     "output_type": "execute_result"
    }
   ],
   "source": [
    "# MongoDB configuration\n",
    "mongo_uri = \"mongodb://localhost:27017/?directConnection=true\"\n",
    "\n",
    "try:\n",
    "    client = MongoClient(mongo_uri,\n",
    "        connectTimeoutMS=30000,\n",
    "        socketTimeoutMS=None)\n",
    "    print(\"Connection successful\")\n",
    "except:\n",
    "    print(\"Unsuccessful\")\n",
    "\n",
    "\n",
    "db = client[\"spotify_test\"]\n",
    "doc = {\"test\": \"success\"}\n",
    "db[\"spotify_data\"].insert_one(doc)"
   ]
  },
  {
   "cell_type": "markdown",
   "id": "78dc748e",
   "metadata": {},
   "source": [
    "# Spotify API authentication\n",
    "- Includes test to ensure tokens are active and operating"
   ]
  },
  {
   "cell_type": "code",
   "execution_count": 11,
   "id": "c2768f31-e714-4f24-a7b8-109abed425f7",
   "metadata": {},
   "outputs": [
    {
     "name": "stdout",
     "output_type": "stream",
     "text": [
      "Printing users most recently saved songs...\n",
      "\n",
      "The Question (feat. Lil Wayne) - Mac Miller\n",
      "N95 - Kendrick Lamar\n",
      "From The Ritz To The Rubble - Arctic Monkeys\n",
      "Joker And The Thief - Wolfmother\n",
      "Gloom - Djo\n",
      "Freakin' Out On the Interstate - Briston Maroney\n",
      "CAN YOU HEAR THE MOON - Grady\n",
      "United In Grief - Kendrick Lamar\n",
      "Thoughts of the Night - INNR CIRCLE\n",
      "Spillways [Feat. Joe Elliott] - Ghost\n",
      "インフェルノ - Mrs. GREEN APPLE\n",
      "Little Girl - Death From Above 1979\n",
      "Dimension - Wolfmother\n",
      "Happen To Me - BENEE\n",
      "C'est La Vie (with bbno$ & Rich Brian) - Yung Gravy\n",
      "New Gold (feat. Tame Impala and Bootie Brown) - Gorillaz\n",
      "Small Worlds - Mac Miller\n",
      "Skin and Bones - Cage The Elephant\n",
      "Typical Story - Hobo Johnson\n",
      "Charmander - Aminé\n"
     ]
    }
   ],
   "source": [
    "#Authentication code for Spotify users\n",
    "client_id = 'b99285112ec748a395163cb8fa403fa9'\n",
    "client_secret = '40fb6a4179d94c1bbc564f9bf26e3aa8'\n",
    "redirect_uri = 'http://127.0.0.1:8080/callback'\n",
    "scope = 'user-library-read playlist-modify-public'\n",
    "\n",
    "#Prompt for user authentication\n",
    "sp = spotipy.Spotify(auth_manager=SpotifyOAuth(client_id=client_id, client_secret=client_secret, \n",
    "                                               redirect_uri=redirect_uri, scope=scope))\n",
    "\n",
    "\n",
    "#Test access\n",
    "print('Printing users most recently saved songs...\\n')\n",
    "results = sp.current_user_saved_tracks()\n",
    "for track in results['items']:\n",
    "    print(track['track']['name'], '-', track['track']['artists'][0]['name'])"
   ]
  },
  {
   "cell_type": "markdown",
   "id": "62c12b91",
   "metadata": {},
   "source": [
    "# Category Collection creation"
   ]
  },
  {
   "cell_type": "code",
   "execution_count": 4,
   "id": "e5d0196f",
   "metadata": {},
   "outputs": [
    {
     "name": "stdout",
     "output_type": "stream",
     "text": [
      "Creating collection: top lists_playlist\n",
      "Collection top lists_playlist does not contain 'test' field\n",
      "Creating collection: hip-hop_playlist\n",
      "Collection hip-hop_playlist does not contain 'test' field\n",
      "Creating collection: pop_playlist\n",
      "Collection pop_playlist does not contain 'test' field\n",
      "Creating collection: country_playlist\n",
      "Collection country_playlist does not contain 'test' field\n",
      "Creating collection: latin_playlist\n",
      "Collection latin_playlist does not contain 'test' field\n",
      "Creating collection: rock_playlist\n",
      "Collection rock_playlist does not contain 'test' field\n",
      "Creating collection: summer_playlist\n",
      "Collection summer_playlist does not contain 'test' field\n",
      "Creating collection: workout_playlist\n",
      "Collection workout_playlist does not contain 'test' field\n",
      "Creating collection: r&b_playlist\n",
      "Collection r&b_playlist does not contain 'test' field\n",
      "Creating collection: dance/electronic_playlist\n",
      "Collection dance/electronic_playlist does not contain 'test' field\n",
      "Creating collection: netflix_playlist\n",
      "Collection netflix_playlist does not contain 'test' field\n",
      "Creating collection: indie_playlist\n",
      "Collection indie_playlist does not contain 'test' field\n",
      "Creating collection: mood_playlist\n",
      "Collection mood_playlist does not contain 'test' field\n",
      "Creating collection: sleep_playlist\n",
      "Collection sleep_playlist does not contain 'test' field\n",
      "Creating collection: christian & gospel_playlist\n",
      "Collection christian & gospel_playlist does not contain 'test' field\n",
      "Creating collection: regional mexican_playlist\n",
      "Collection regional mexican_playlist does not contain 'test' field\n",
      "Creating collection: wellness_playlist\n",
      "Collection wellness_playlist does not contain 'test' field\n",
      "Creating collection: chill_playlist\n",
      "Collection chill_playlist does not contain 'test' field\n",
      "Creating collection: equal_playlist\n",
      "Collection equal_playlist does not contain 'test' field\n",
      "Creating collection: gaming_playlist\n",
      "Collection gaming_playlist does not contain 'test' field\n"
     ]
    }
   ],
   "source": [
    "mongo_database_name = \"spotify\"\n",
    "\n",
    "# Set up the pymongo client\n",
    "mongo_client = pymongo.MongoClient(mongo_uri)\n",
    "mongo_database = mongo_client[mongo_database_name]\n",
    "\n",
    "# Import top categories from Spotify\n",
    "categories_results = sp.categories(limit=20)\n",
    "categories = [category['name'].lower() for category in categories_results['categories']['items']]\n",
    "\n",
    "# Create a collection for each category\n",
    "for category in categories:\n",
    "    collection_name = f\"{category}_playlist\"\n",
    "    collection = mongo_database[collection_name]\n",
    "    print(f\"Creating collection: {collection_name}\")\n",
    "    collection.insert_one({'test': 'success'})\n",
    "    \n",
    "    # Remove 'test' field after successful import\n",
    "    if 'test' in collection.find_one():\n",
    "        collection.update_many({}, {\"$unset\": {'test': 1}})\n",
    "        print(f\"Successfully removed 'test' field from {collection_name}\")\n",
    "    else:\n",
    "        print(f\"Collection {collection_name} does not contain 'test' field\")"
   ]
  },
  {
   "cell_type": "markdown",
   "id": "179f7f1b",
   "metadata": {},
   "source": [
    "# Import Song Data to Collections"
   ]
  },
  {
   "cell_type": "code",
   "execution_count": 12,
   "id": "b04598c8",
   "metadata": {},
   "outputs": [
    {
     "name": "stdout",
     "output_type": "stream",
     "text": [
      "pulling top lists playlist data\n",
      "no new top lists playlist data\n",
      "pulling hip-hop playlist data\n",
      "finished pulling hip-hop playlist data\n",
      "pulling pop playlist data\n",
      "finished pulling pop playlist data\n",
      "pulling country playlist data\n",
      "finished pulling country playlist data\n",
      "pulling latin playlist data\n",
      "finished pulling latin playlist data\n",
      "pulling rock playlist data\n",
      "finished pulling rock playlist data\n",
      "pulling summer playlist data\n",
      "finished pulling summer playlist data\n",
      "pulling workout playlist data\n",
      "finished pulling workout playlist data\n",
      "pulling r&b playlist data\n",
      "finished pulling r&b playlist data\n",
      "pulling dance/electronic playlist data\n",
      "finished pulling dance/electronic playlist data\n",
      "pulling netflix playlist data\n",
      "no new netflix playlist data\n",
      "pulling indie playlist data\n",
      "finished pulling indie playlist data\n",
      "pulling mood playlist data\n",
      "Invalid track data: {'added_at': '2020-04-05T02:00:33Z', 'added_by': {'external_urls': {'spotify': 'https://open.spotify.com/user/1299737591'}, 'href': 'https://api.spotify.com/v1/users/1299737591', 'id': '1299737591', 'type': 'user', 'uri': 'spotify:user:1299737591'}, 'is_local': False, 'primary_color': None, 'track': None, 'video_thumbnail': None}\n",
      "finished pulling mood playlist data\n",
      "pulling sleep playlist data\n",
      "finished pulling sleep playlist data\n",
      "pulling christian & gospel playlist data\n",
      "no new christian & gospel playlist data\n",
      "pulling regional mexican playlist data\n",
      "no new regional mexican playlist data\n",
      "pulling wellness playlist data\n",
      "no new wellness playlist data\n",
      "pulling chill playlist data\n",
      "Invalid track data: {'added_at': '2022-12-16T01:18:36Z', 'added_by': {'external_urls': {'spotify': 'https://open.spotify.com/user/cekmp09tgayha7hcn9jhv96ea'}, 'href': 'https://api.spotify.com/v1/users/cekmp09tgayha7hcn9jhv96ea', 'id': 'cekmp09tgayha7hcn9jhv96ea', 'type': 'user', 'uri': 'spotify:user:cekmp09tgayha7hcn9jhv96ea'}, 'is_local': False, 'primary_color': None, 'track': None, 'video_thumbnail': None}\n",
      "finished pulling chill playlist data\n",
      "pulling equal playlist data\n",
      "no new equal playlist data\n",
      "pulling gaming playlist data\n",
      "Invalid track data: {'added_at': '2023-03-31T04:00:00Z', 'added_by': {'external_urls': {'spotify': 'https://open.spotify.com/user/'}, 'href': 'https://api.spotify.com/v1/users/', 'id': '', 'type': 'user', 'uri': 'spotify:user:'}, 'is_local': False, 'primary_color': None, 'track': None, 'video_thumbnail': {'url': None}}\n",
      "finished pulling gaming playlist data\n",
      "data upload to mongodb completed\n"
     ]
    }
   ],
   "source": [
    "mongo_database_name = \"spotify\"\n",
    "\n",
    "# Set up the pymongo client\n",
    "mongo_client = pymongo.MongoClient(mongo_uri)\n",
    "mongo_database = mongo_client[mongo_database_name]\n",
    "\n",
    "# Import top categories from Spotify\n",
    "categories_results = sp.categories(limit=20)\n",
    "categories = [category['name'].lower() for category in categories_results['categories']['items']]\n",
    "\n",
    "# Timestamp\n",
    "now = datetime.datetime.now()\n",
    "\n",
    "# Check last category import date to avoid duplicate imports\n",
    "for category in categories:\n",
    "    collection_name = category + '_playlist'\n",
    "    collection = mongo_database[collection_name]\n",
    "    last_import = collection.find_one(sort=[(\"import_date\", pymongo.DESCENDING)])\n",
    "    if last_import is None or now - last_import.get('import_date', \n",
    "                                                    datetime.datetime.min) > datetime.timedelta(days=1):\n",
    "        print(f'pulling {category} playlist data')\n",
    "        # Search for playlists and extract relevant song information\n",
    "        playlist_results = sp.search(q=f'category:\"{category}\"', type='playlist', limit=50)\n",
    "        playlist_data = []\n",
    "        for playlist in playlist_results['playlists']['items']:\n",
    "            tracks = sp.playlist_tracks(playlist['id'])\n",
    "            for track in tracks['items']:\n",
    "                if track['track'] is not None and track['track']['name'] is not None:\n",
    "                    song_info = {\n",
    "                        'song_name': track['track']['name'],\n",
    "                        'artist': track['track']['artists'][0]['name'],\n",
    "                        'album': track['track']['album']['name'],\n",
    "                        'playlist_name': playlist['name'],\n",
    "                        'playlist_id': playlist['id'],\n",
    "                        'track_uri': track['track']['uri'],\n",
    "                        'import_date': now\n",
    "                    }\n",
    "                    playlist_data.append(song_info)\n",
    "                else:\n",
    "                    print(\"Invalid track data:\", track)\n",
    "        # Write categories to MongoDB\n",
    "        if playlist_data:\n",
    "            # check if the collection already exists in the database\n",
    "            if collection_name not in mongo_database.list_collection_names():\n",
    "                mongo_database.create_collection(collection_name)\n",
    "                print(f'{collection_name} collection created')\n",
    "            collection.insert_many(playlist_data)\n",
    "            print(f'finished pulling {category} playlist data')\n",
    "        else:\n",
    "            print(f'no new {category} playlist data')\n",
    "    else:\n",
    "        print(f'{category} playlist data already up to date')\n",
    "print('data upload to mongodb completed')"
   ]
  },
  {
   "cell_type": "markdown",
   "id": "c3d61e21",
   "metadata": {},
   "source": [
    "# Playlist Generation\n",
    "- Prompts for User Input regarding both category selection and per category song counts"
   ]
  },
  {
   "cell_type": "code",
   "execution_count": 6,
   "id": "c358ce08",
   "metadata": {},
   "outputs": [
    {
     "name": "stdout",
     "output_type": "stream",
     "text": [
      "Categories available in the database: dance/electronic_playlist, workout_playlist, rock_playlist, equal_playlist, top lists_playlist, pop_playlist, country_playlist, r&b_playlist, summer_playlist, gaming_playlist, christian & gospel_playlist, hip-hop_playlist, latin_playlist, netflix_playlist, mood_playlist, regional mexican_playlist, indie_playlist, chill_playlist, sleep_playlist, wellness_playlist\n",
      "Enter categories to include in the playlist (separated by commas): workout,rock,hip-hop\n",
      "Enter number of songs to include from each selected category: 30\n",
      "Playlist '2023-03-31 19:17:02' created in your Spotify account\n"
     ]
    }
   ],
   "source": [
    "# Playlist Generation\n",
    "now = datetime.datetime.now()\n",
    "playlist_name = now.strftime('%Y-%m-%d %H:%M:%S')\n",
    "\n",
    "# Category Names\n",
    "category_names = mongo_database.list_collection_names()\n",
    "\n",
    "# Prompt for user input - categories for playlist generation\n",
    "print(f\"Categories available in the database: {', '.join(category_names)}\")\n",
    "categories = input(\"Enter categories to include in the playlist (separated by commas): \").split(\",\")\n",
    "categories = [c.strip().lower() for c in categories]\n",
    "\n",
    "# Prompt for user input - number of songs\n",
    "num_songs = int(input(\"Enter number of songs to include from each selected category: \"))\n",
    "\n",
    "# Create playlist\n",
    "user_id = sp.current_user()['id']\n",
    "playlist = sp.user_playlist_create(user=user_id, name=playlist_name)\n",
    "\n",
    "# Select random songs and add to playlist\n",
    "for category in categories:\n",
    "    if category in categories:\n",
    "        collection_name = category + '_playlist'\n",
    "        if collection_name in category_names:\n",
    "            collection = mongo_database[collection_name]\n",
    "            pipeline = [{'$sample': {'size': num_songs}}]\n",
    "            results = list(collection.aggregate(pipeline))\n",
    "            if results:\n",
    "                song_info = []\n",
    "                for result in results:\n",
    "                    if result.get('song_name'):\n",
    "                        song_info.append(result)\n",
    "                    else:\n",
    "                        print(f\"No song found for {category} category\")\n",
    "                if song_info:\n",
    "                    track_uris = [song.get('track_uri') for song in song_info]\n",
    "                    sp.user_playlist_add_tracks(user=user_id, playlist_id=playlist['id'], \n",
    "                                                tracks=track_uris)\n",
    "                else:\n",
    "                    print(f\"No song found for {category} category\")\n",
    "            else:\n",
    "                print(f\"No data found for {category} category\")\n",
    "        else:\n",
    "            print(f\"{category} category doesn't exist in the database\")\n",
    "\n",
    "print(f\"Playlist '{playlist_name}' created in your Spotify account\")"
   ]
  }
 ],
 "metadata": {
  "kernelspec": {
   "display_name": "Python 3 (ipykernel)",
   "language": "python",
   "name": "python3"
  },
  "language_info": {
   "codemirror_mode": {
    "name": "ipython",
    "version": 3
   },
   "file_extension": ".py",
   "mimetype": "text/x-python",
   "name": "python",
   "nbconvert_exporter": "python",
   "pygments_lexer": "ipython3",
   "version": "3.9.7"
  }
 },
 "nbformat": 4,
 "nbformat_minor": 5
}
